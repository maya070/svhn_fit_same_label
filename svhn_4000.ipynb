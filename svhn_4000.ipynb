{
 "cells": [
  {
   "cell_type": "code",
   "execution_count": 32,
   "metadata": {},
   "outputs": [],
   "source": [
    "import torch\n",
    "from torchvision import datasets, transforms\n",
    "from  torch.utils import data"
   ]
  },
  {
   "cell_type": "code",
   "execution_count": 5,
   "metadata": {},
   "outputs": [],
   "source": [
    "all_transforms = [\n",
    "    transforms.ToTensor(),\n",
    "    transforms.Normalize((0.1307, ), (0.3081, ))\n",
    "]\n",
    "transform = transforms.Compose(all_transforms)"
   ]
  },
  {
   "cell_type": "code",
   "execution_count": 6,
   "metadata": {},
   "outputs": [
    {
     "name": "stdout",
     "output_type": "stream",
     "text": [
      "Using downloaded and verified file: /tmp/data/train_32x32.mat\n",
      "Using downloaded and verified file: /tmp/data/test_32x32.mat\n"
     ]
    }
   ],
   "source": [
    "trainset = datasets.SVHN(\n",
    "    root='/tmp/data', split='train', download=True, transform=transform)\n",
    "testset = datasets.SVHN(\n",
    "    root='/tmp/data', split='test', download=True, transform=transform)\n"
   ]
  },
  {
   "cell_type": "code",
   "execution_count": 7,
   "metadata": {},
   "outputs": [
    {
     "data": {
      "text/plain": [
       "73257"
      ]
     },
     "execution_count": 7,
     "metadata": {},
     "output_type": "execute_result"
    }
   ],
   "source": [
    "len(trainset)"
   ]
  },
  {
   "cell_type": "code",
   "execution_count": 9,
   "metadata": {},
   "outputs": [],
   "source": [
    "trainset_iter = iter(trainset)\n",
    "\n",
    "data, labels = next(trainset_iter)"
   ]
  },
  {
   "cell_type": "code",
   "execution_count": 12,
   "metadata": {},
   "outputs": [
    {
     "data": {
      "text/plain": [
       "1"
      ]
     },
     "execution_count": 12,
     "metadata": {},
     "output_type": "execute_result"
    }
   ],
   "source": [
    "labels\n"
   ]
  },
  {
   "cell_type": "code",
   "execution_count": 18,
   "metadata": {},
   "outputs": [],
   "source": [
    "\n",
    "cnt1 = cnt2= cnt3= cnt4= cnt5= cnt6= cnt7= cnt8= cnt9= cnt10 = 0 \n",
    "for data, labels in trainset:\n",
    "    \n",
    "\n",
    "    \n",
    "    if labels == 1:\n",
    "        \n",
    "        \n",
    "        cnt1 = cnt1 + 1\n",
    "        \n",
    "    elif labels == 2:\n",
    "        cnt2 = cnt2 + 1\n",
    "    elif labels == 3:\n",
    "        cnt3 = cnt3+1\n",
    "    elif labels == 4:\n",
    "        cnt4 = cnt4+1\n",
    "    elif labels == 5:\n",
    "        cnt5 = cnt5 + 1\n",
    "    elif labels == 6:\n",
    "        cnt6 = cnt6+1\n",
    "    elif labels == 7:\n",
    "        cnt7 = cnt7+1\n",
    "    elif labels == 8:\n",
    "        cnt8 = cnt8 + 1\n",
    "    elif labels == 9:\n",
    "        cnt9 = cnt9+1\n",
    "    else:\n",
    "        cnt10 = cnt10+1        "
   ]
  },
  {
   "cell_type": "code",
   "execution_count": 19,
   "metadata": {},
   "outputs": [
    {
     "name": "stdout",
     "output_type": "stream",
     "text": [
      "cnt1 :  13861 cnt2 :  10585 cnt3 :  8497 cnt4 :  7458 cnt5 :  6882 cnt6 :  5727 cnt7 :  5595 cnt8 :  5045 cnt9 :  4659 cnt10 :  4948\n"
     ]
    }
   ],
   "source": [
    "print( 'cnt1 : ', cnt1 , 'cnt2 : ',  cnt2  ,'cnt3 : ', cnt3, 'cnt4 : ',   cnt4 , 'cnt5 : ',  cnt5 , 'cnt6 : ',   cnt6 , 'cnt7 : ',  cnt7 , 'cnt8 : ',   cnt8 , 'cnt9 : ',  cnt9 , 'cnt10 : ',  cnt10  )"
   ]
  },
  {
   "cell_type": "code",
   "execution_count": 23,
   "metadata": {},
   "outputs": [
    {
     "ename": "SyntaxError",
     "evalue": "invalid syntax (<ipython-input-23-7bb2d07726ea>, line 1)",
     "output_type": "error",
     "traceback": [
      "\u001b[0;36m  File \u001b[0;32m\"<ipython-input-23-7bb2d07726ea>\"\u001b[0;36m, line \u001b[0;32m1\u001b[0m\n\u001b[0;31m    train_dataset = [, ]\u001b[0m\n\u001b[0m                     ^\u001b[0m\n\u001b[0;31mSyntaxError\u001b[0m\u001b[0;31m:\u001b[0m invalid syntax\n"
     ]
    }
   ],
   "source": [
    "train_dataset = [ ]"
   ]
  },
  {
   "cell_type": "code",
   "execution_count": 25,
   "metadata": {},
   "outputs": [],
   "source": [
    "\n",
    "cnt1 = cnt2= cnt3= cnt4= cnt5= cnt6= cnt7= cnt8= cnt9= cnt10 = 0 \n",
    "for data, labels in trainset:\n",
    "    \n",
    "\n",
    "    \n",
    "    if labels == 1:\n",
    "        \n",
    "        if cnt1 <4000:\n",
    "            train_dataset.append([data, labels])\n",
    "        \n",
    "        cnt1 = cnt1 + 1\n",
    "        \n",
    "    elif labels == 2:\n",
    "        if cnt2 <4000:\n",
    "            train_dataset.append([data, labels])\n",
    "        cnt2 = cnt2 + 1\n",
    "        \n",
    "    elif labels == 3:\n",
    "        if cnt3 <4000:\n",
    "            train_dataset.append([data, labels])     \n",
    "        cnt3 = cnt3+1\n",
    "    elif labels == 4:\n",
    "        if cnt4 <4000:\n",
    "            train_dataset.append([data, labels])       \n",
    "        cnt4 = cnt4+1\n",
    "    elif labels == 5:\n",
    "        if cnt5 <4000:\n",
    "            train_dataset.append([data, labels])       \n",
    "        cnt5 = cnt5 + 1\n",
    "    elif labels == 6:\n",
    "        if cnt6 <4000:\n",
    "            train_dataset.append([data, labels])       \n",
    "        cnt6 = cnt6+1\n",
    "    elif labels == 7:\n",
    "        if cnt7 <4000:\n",
    "            train_dataset.append([data, labels])       \n",
    "        cnt7 = cnt7+1\n",
    "    elif labels == 8:\n",
    "        if cnt8 <4000:\n",
    "            train_dataset.append([data, labels])       \n",
    "        cnt8 = cnt8 + 1\n",
    "    elif labels == 9:\n",
    "        if cnt9 <4000:\n",
    "            train_dataset.append([data, labels])        \n",
    "        cnt9 = cnt9+1\n",
    "    else:\n",
    "        if cnt10 <4000:\n",
    "            train_dataset.append([data, labels])      \n",
    "        cnt10 = cnt10+1     "
   ]
  },
  {
   "cell_type": "code",
   "execution_count": 26,
   "metadata": {},
   "outputs": [],
   "source": [
    "cnt1 = cnt2= cnt3= cnt4= cnt5= cnt6= cnt7= cnt8= cnt9= cnt10 = 0 \n",
    "for data, labels in train_dataset:\n",
    "    \n",
    "\n",
    "    \n",
    "    if labels == 1:\n",
    "        \n",
    "        \n",
    "        cnt1 = cnt1 + 1\n",
    "        \n",
    "    elif labels == 2:\n",
    "        cnt2 = cnt2 + 1\n",
    "    elif labels == 3:\n",
    "        cnt3 = cnt3+1\n",
    "    elif labels == 4:\n",
    "        cnt4 = cnt4+1\n",
    "    elif labels == 5:\n",
    "        cnt5 = cnt5 + 1\n",
    "    elif labels == 6:\n",
    "        cnt6 = cnt6+1\n",
    "    elif labels == 7:\n",
    "        cnt7 = cnt7+1\n",
    "    elif labels == 8:\n",
    "        cnt8 = cnt8 + 1\n",
    "    elif labels == 9:\n",
    "        cnt9 = cnt9+1\n",
    "    else:\n",
    "        cnt10 = cnt10+1    "
   ]
  },
  {
   "cell_type": "code",
   "execution_count": 27,
   "metadata": {},
   "outputs": [
    {
     "name": "stdout",
     "output_type": "stream",
     "text": [
      "cnt1 :  4001 cnt2 :  4000 cnt3 :  4000 cnt4 :  4000 cnt5 :  4000 cnt6 :  4000 cnt7 :  4000 cnt8 :  4000 cnt9 :  4000 cnt10 :  4000\n"
     ]
    }
   ],
   "source": [
    "print( 'cnt1 : ', cnt1 , 'cnt2 : ',  cnt2  ,'cnt3 : ', cnt3, 'cnt4 : ',   cnt4 , 'cnt5 : ',  cnt5 , 'cnt6 : ',   cnt6 , 'cnt7 : ',  cnt7 , 'cnt8 : ',   cnt8 , 'cnt9 : ',  cnt9 , 'cnt10 : ',  cnt10  )"
   ]
  },
  {
   "cell_type": "code",
   "execution_count": 36,
   "metadata": {},
   "outputs": [
    {
     "data": {
      "text/plain": [
       "40001"
      ]
     },
     "execution_count": 36,
     "metadata": {},
     "output_type": "execute_result"
    }
   ],
   "source": [
    "len(train_dataset)"
   ]
  },
  {
   "cell_type": "code",
   "execution_count": 48,
   "metadata": {},
   "outputs": [],
   "source": [
    "class trainDataset(data.Dataset):\n",
    "\n",
    "    def __init__(self, transform=None):\n",
    "        tmp_data = []\n",
    "        tmp_labels = []\n",
    "        for data, labels in train_dataset:\n",
    "            tmp_data.append(data)\n",
    "            tmp_labels.append(labels)\n",
    "            \n",
    "        self.data = tmp_data\n",
    "        self.labels = tmp_labels            \n",
    "\n",
    "    def __getitem__(self, index):\n",
    "        data = self.data[index]\n",
    "        label = self.labels[index]\n",
    "        return data, label\n",
    "\n",
    "\n",
    "    def __len__(self):\n",
    "        return len(self.labels)"
   ]
  },
  {
   "cell_type": "code",
   "execution_count": 49,
   "metadata": {},
   "outputs": [],
   "source": [
    "custom_train = trainDataset(transform)\n"
   ]
  },
  {
   "cell_type": "code",
   "execution_count": 50,
   "metadata": {},
   "outputs": [],
   "source": [
    "tt = custom_train.data\n"
   ]
  },
  {
   "cell_type": "code",
   "execution_count": 51,
   "metadata": {},
   "outputs": [
    {
     "data": {
      "text/plain": [
       "40001"
      ]
     },
     "execution_count": 51,
     "metadata": {},
     "output_type": "execute_result"
    }
   ],
   "source": [
    "len(tt)"
   ]
  },
  {
   "cell_type": "code",
   "execution_count": null,
   "metadata": {},
   "outputs": [],
   "source": []
  }
 ],
 "metadata": {
  "kernelspec": {
   "display_name": "simclr",
   "language": "python",
   "name": "simclr"
  },
  "language_info": {
   "codemirror_mode": {
    "name": "ipython",
    "version": 3
   },
   "file_extension": ".py",
   "mimetype": "text/x-python",
   "name": "python",
   "nbconvert_exporter": "python",
   "pygments_lexer": "ipython3",
   "version": "3.7.6"
  }
 },
 "nbformat": 4,
 "nbformat_minor": 4
}
